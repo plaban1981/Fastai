{
  "nbformat": 4,
  "nbformat_minor": 0,
  "metadata": {
    "colab": {
      "name": "Detect_and_Decode_QRcode.ipynb",
      "provenance": [],
      "authorship_tag": "ABX9TyPhZnOy/4/NYb3pWzMF9+pn",
      "include_colab_link": true
    },
    "kernelspec": {
      "name": "python3",
      "display_name": "Python 3"
    }
  },
  "cells": [
    {
      "cell_type": "markdown",
      "metadata": {
        "id": "view-in-github",
        "colab_type": "text"
      },
      "source": [
        "<a href=\"https://colab.research.google.com/github/plaban1981/Fastai/blob/master/Detect_and_Decode_QRcode.ipynb\" target=\"_parent\"><img src=\"https://colab.research.google.com/assets/colab-badge.svg\" alt=\"Open In Colab\"/></a>"
      ]
    },
    {
      "cell_type": "code",
      "metadata": {
        "id": "p6SamzFA4NFd",
        "colab_type": "code",
        "colab": {
          "base_uri": "https://localhost:8080/",
          "height": 170
        },
        "outputId": "35c87774-e07e-4380-bde2-8d9d6ece85b2"
      },
      "source": [
        "pip install pyqrcode"
      ],
      "execution_count": 2,
      "outputs": [
        {
          "output_type": "stream",
          "text": [
            "Collecting pyqrcode\n",
            "  Downloading https://files.pythonhosted.org/packages/37/61/f07226075c347897937d4086ef8e55f0a62ae535e28069884ac68d979316/PyQRCode-1.2.1.tar.gz\n",
            "Building wheels for collected packages: pyqrcode\n",
            "  Building wheel for pyqrcode (setup.py) ... \u001b[?25l\u001b[?25hdone\n",
            "  Created wheel for pyqrcode: filename=PyQRCode-1.2.1-cp36-none-any.whl size=36247 sha256=e0dd3c1c4fcbb95bd4045fa40d76c8ceff38827e89f823858351b3c7f3b76850\n",
            "  Stored in directory: /root/.cache/pip/wheels/54/61/2f/a4f51b09473db5737db0f654ed10eb9a4ee01f83a7412de349\n",
            "Successfully built pyqrcode\n",
            "Installing collected packages: pyqrcode\n",
            "Successfully installed pyqrcode-1.2.1\n"
          ],
          "name": "stdout"
        }
      ]
    },
    {
      "cell_type": "code",
      "metadata": {
        "id": "TwF8WSus4QwR",
        "colab_type": "code",
        "colab": {
          "base_uri": "https://localhost:8080/",
          "height": 187
        },
        "outputId": "0d62a44b-d42b-4555-bb0b-2e8dbe7b4b9d"
      },
      "source": [
        "pip install pypng"
      ],
      "execution_count": 3,
      "outputs": [
        {
          "output_type": "stream",
          "text": [
            "Collecting pypng\n",
            "\u001b[?25l  Downloading https://files.pythonhosted.org/packages/bc/fb/f719f1ac965e2101aa6ea6f54ef8b40f8fbb033f6ad07c017663467f5147/pypng-0.0.20.tar.gz (649kB)\n",
            "\u001b[K     |████████████████████████████████| 655kB 3.4MB/s \n",
            "\u001b[?25hBuilding wheels for collected packages: pypng\n",
            "  Building wheel for pypng (setup.py) ... \u001b[?25l\u001b[?25hdone\n",
            "  Created wheel for pypng: filename=pypng-0.0.20-cp36-none-any.whl size=67162 sha256=81501f90fa1ee840d5b605aac27aa366c043baf2ec6b752caef3758893144035\n",
            "  Stored in directory: /root/.cache/pip/wheels/41/6b/ef/0493b536b6d4722c2ae9486691b1d49b922b9877922beeabb3\n",
            "Successfully built pypng\n",
            "Installing collected packages: pypng\n",
            "Successfully installed pypng-0.0.20\n"
          ],
          "name": "stdout"
        }
      ]
    },
    {
      "cell_type": "code",
      "metadata": {
        "id": "aT0UhgSh34Mp",
        "colab_type": "code",
        "colab": {}
      },
      "source": [
        "import pyqrcode \n",
        "import png \n",
        "from pyqrcode import QRCode \n",
        "import cv2\n",
        "import numpy as np\n",
        "\n",
        "\n",
        "# String which represents the QR code \n",
        "s = \"https://medium.com/p/12743ca0a9d9/edit\"\n",
        "  \n",
        "# output file name\n",
        "filename = \"qrcode.png\"\n",
        "\n",
        "\n",
        "# Generate QR code \n",
        "img = pyqrcode.create(s) \n",
        "\n",
        "  \n",
        "# Create and save the svg file naming \"myqr.svg\" \n",
        "img.svg(\"myqr.svg\", scale = 8) \n",
        "  \n",
        "# Create and save the png file naming \"myqr.png\" \n",
        "img.png('myqr.png', scale = 6) \n",
        "\n"
      ],
      "execution_count": 4,
      "outputs": []
    },
    {
      "cell_type": "code",
      "metadata": {
        "id": "T-4h7BqmHcxL",
        "colab_type": "code",
        "colab": {}
      },
      "source": [
        ""
      ],
      "execution_count": null,
      "outputs": []
    },
    {
      "cell_type": "markdown",
      "metadata": {
        "id": "9pdkTKdUFZRh",
        "colab_type": "text"
      },
      "source": [
        "# Read the QR Code"
      ]
    },
    {
      "cell_type": "code",
      "metadata": {
        "id": "a8nVqCTs429P",
        "colab_type": "code",
        "colab": {}
      },
      "source": [
        "import cv2\n",
        "# read the QRCODE image\n",
        "img = cv2.imread('myqr.png')"
      ],
      "execution_count": 5,
      "outputs": []
    },
    {
      "cell_type": "code",
      "metadata": {
        "id": "2THq87-2475r",
        "colab_type": "code",
        "colab": {
          "base_uri": "https://localhost:8080/",
          "height": 34
        },
        "outputId": "eefe4e13-3a55-4db0-9181-ae08e5f22a24"
      },
      "source": [
        "img.shape"
      ],
      "execution_count": 6,
      "outputs": [
        {
          "output_type": "execute_result",
          "data": {
            "text/plain": [
              "(270, 270, 3)"
            ]
          },
          "metadata": {
            "tags": []
          },
          "execution_count": 6
        }
      ]
    },
    {
      "cell_type": "markdown",
      "metadata": {
        "id": "k4fVycqv5tZL",
        "colab_type": "text"
      },
      "source": [
        "# Detect QR code"
      ]
    },
    {
      "cell_type": "code",
      "metadata": {
        "id": "1tt5L9bj486l",
        "colab_type": "code",
        "colab": {}
      },
      "source": [
        "# initialize the cv2 QRCode detector\n",
        "detector = cv2.QRCodeDetector()"
      ],
      "execution_count": 7,
      "outputs": []
    },
    {
      "cell_type": "markdown",
      "metadata": {
        "id": "qxh8XIxg6DvZ",
        "colab_type": "text"
      },
      "source": [
        "# Decode the data"
      ]
    },
    {
      "cell_type": "code",
      "metadata": {
        "id": "uSy-asGi6Fs7",
        "colab_type": "code",
        "colab": {}
      },
      "source": [
        "# detect and decode\n",
        "data, bbox, straight_qrcode = detector.detectAndDecode(img)"
      ],
      "execution_count": 8,
      "outputs": []
    },
    {
      "cell_type": "markdown",
      "metadata": {
        "id": "aNPnDJYcA-Ws",
        "colab_type": "text"
      },
      "source": [
        "detectAndDecode() function takes an image as an input and decodes it to return a tuple of 3 values: \n",
        "\n",
        "* the data decoded from the QR code,\n",
        "* the output array of vertices of the found QR code quadrangle and \n",
        "* the output image containing rectified and binarized QR code."
      ]
    },
    {
      "cell_type": "markdown",
      "metadata": {
        "id": "ZSqH_L0yBNJA",
        "colab_type": "text"
      },
      "source": [
        "We just need data and bbox here, bbox will help us draw the quadrangle in the image and data will be printed to the console!"
      ]
    },
    {
      "cell_type": "code",
      "metadata": {
        "id": "gvl43pFqA-6B",
        "colab_type": "code",
        "colab": {
          "base_uri": "https://localhost:8080/",
          "height": 51
        },
        "outputId": "e270a2f8-d505-4357-b184-0dabdffd91f9"
      },
      "source": [
        "# if there is a QR code\n",
        "if bbox is not None:\n",
        "    print(f\"QRCode data:\\n{data}\")\n",
        "    # display the image with lines\n",
        "    # length of bounding box\n",
        "    n_lines = len(bbox)\n",
        "    for i in range(n_lines):\n",
        "        # draw all lines\n",
        "        point1 = tuple(bbox[i][0])\n",
        "        point2 = tuple(bbox[(i+1) % n_lines][0])\n",
        "        cv2.line(img, point1, point2, color=(255, 0, 0), thickness=2)"
      ],
      "execution_count": 9,
      "outputs": [
        {
          "output_type": "stream",
          "text": [
            "QRCode data:\n",
            "https://medium.com/p/12743ca0a9d9/edit\n"
          ],
          "name": "stdout"
        }
      ]
    },
    {
      "cell_type": "markdown",
      "metadata": {
        "id": "vLmQB-0jCjCW",
        "colab_type": "text"
      },
      "source": [
        "* cv2.line() function draws a line segment connecting two points, we retrieve these points from bbox array that was decoded by detectAndDecode() previously. \n",
        "\n",
        "* we specified a blue color ( (255, 0, 0) is blue as OpenCV uses BGR colors ) and thickness of 2."
      ]
    },
    {
      "cell_type": "code",
      "metadata": {
        "id": "IpzNkgvhDQSn",
        "colab_type": "code",
        "colab": {
          "base_uri": "https://localhost:8080/",
          "height": 287
        },
        "outputId": "0db30fae-af1f-4a78-9593-d5364b3bb7e5"
      },
      "source": [
        "# Display the result\n",
        "from google.colab.patches import cv2_imshow\n",
        "cv2_imshow(img)\n",
        "cv2.waitKey(0)\n",
        "cv2.destroyAllWindows()"
      ],
      "execution_count": 13,
      "outputs": [
        {
          "output_type": "display_data",
          "data": {
            "image/png": "[encoded data removed]",
            "text/plain": [
              "<PIL.Image.Image image mode=RGB size=270x270 at 0x7F9637BA2E48>"
            ]
          },
          "metadata": {
            "tags": []
          }
        }
      ]
    },
    {
      "cell_type": "code",
      "metadata": {
        "id": "EoowtAtPDmCR",
        "colab_type": "code",
        "colab": {}
      },
      "source": [
        ""
      ],
      "execution_count": null,
      "outputs": []
    }
  ]
}